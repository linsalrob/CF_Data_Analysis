{
 "cells": [
  {
   "cell_type": "markdown",
   "id": "b075c521-a556-4c8f-b215-ffa3a6f45eab",
   "metadata": {},
   "source": [
    "# Metadata Explorer\n",
    "\n",
    "A notebook to explore the metadata so we know where to look for things!"
   ]
  },
  {
   "cell_type": "markdown",
   "id": "7304d341-9ae6-4d95-95f4-2eb345d60e95",
   "metadata": {
    "tags": []
   },
   "source": [
    "### Import some libraries"
   ]
  },
  {
   "cell_type": "code",
   "execution_count": 1,
   "id": "2e6163e9-a531-4e37-a9ad-ece3524e007b",
   "metadata": {},
   "outputs": [],
   "source": [
    "import os\n",
    "import sys\n",
    "from socket import gethostname\n",
    "\n",
    "hostname = gethostname()\n",
    "\n",
    "if hostname.startswith('hpc-node'):\n",
    "    IN_DEEPTHOUGHT = True\n",
    "    sys.path.append('..')\n",
    "else:\n",
    "    IN_DEEPTHOUGHT = False\n",
    "from cf_analysis_lib.load_libraries import *\n",
    "import cf_analysis_lib\n"
   ]
  },
  {
   "cell_type": "markdown",
   "id": "ca652417-a2a3-4324-a64d-208008f6eae5",
   "metadata": {},
   "source": [
    "### Read the data"
   ]
  },
  {
   "cell_type": "code",
   "execution_count": 2,
   "id": "0505e1e9-2ff1-4629-8b84-791cdf36a876",
   "metadata": {},
   "outputs": [
    {
     "data": {
      "text/html": [
       "<div>\n",
       "<style scoped>\n",
       "    .dataframe tbody tr th:only-of-type {\n",
       "        vertical-align: middle;\n",
       "    }\n",
       "\n",
       "    .dataframe tbody tr th {\n",
       "        vertical-align: top;\n",
       "    }\n",
       "\n",
       "    .dataframe thead th {\n",
       "        text-align: right;\n",
       "    }\n",
       "</style>\n",
       "<table border=\"1\" class=\"dataframe\">\n",
       "  <thead>\n",
       "    <tr style=\"text-align: right;\">\n",
       "      <th></th>\n",
       "      <th>minion</th>\n",
       "      <th>MGI</th>\n",
       "      <th>pwCF_ID</th>\n",
       "      <th>Sample date</th>\n",
       "      <th>IP vs OP</th>\n",
       "      <th>Hospital</th>\n",
       "      <th>Room</th>\n",
       "      <th>Age</th>\n",
       "      <th>Age groups</th>\n",
       "      <th>Paediatric vs Adult</th>\n",
       "      <th>...</th>\n",
       "      <th>Sum of meds</th>\n",
       "      <th>Sum of antifungals</th>\n",
       "      <th>Sum of steroid + mabs</th>\n",
       "      <th>DNA_extraction_ conc</th>\n",
       "      <th>SAGC ULN</th>\n",
       "      <th>DNA Conc. (ng/ul)</th>\n",
       "      <th>Index I7</th>\n",
       "      <th>Index I5</th>\n",
       "      <th>Mean_Size_BP</th>\n",
       "      <th>Total Clusters Passing Filter (Million)</th>\n",
       "    </tr>\n",
       "    <tr>\n",
       "      <th>NAME</th>\n",
       "      <th></th>\n",
       "      <th></th>\n",
       "      <th></th>\n",
       "      <th></th>\n",
       "      <th></th>\n",
       "      <th></th>\n",
       "      <th></th>\n",
       "      <th></th>\n",
       "      <th></th>\n",
       "      <th></th>\n",
       "      <th></th>\n",
       "      <th></th>\n",
       "      <th></th>\n",
       "      <th></th>\n",
       "      <th></th>\n",
       "      <th></th>\n",
       "      <th></th>\n",
       "      <th></th>\n",
       "      <th></th>\n",
       "      <th></th>\n",
       "      <th></th>\n",
       "    </tr>\n",
       "  </thead>\n",
       "  <tbody>\n",
       "    <tr>\n",
       "      <th>1068841_20180306_S</th>\n",
       "      <td>1068841_20180306_S</td>\n",
       "      <td>1068841_20180306_S</td>\n",
       "      <td>1068841</td>\n",
       "      <td>3/06/2018</td>\n",
       "      <td>OP</td>\n",
       "      <td>RAH</td>\n",
       "      <td>Chest Clinic 7</td>\n",
       "      <td>47</td>\n",
       "      <td>7</td>\n",
       "      <td>Adult</td>\n",
       "      <td>...</td>\n",
       "      <td>0</td>\n",
       "      <td>0</td>\n",
       "      <td>0</td>\n",
       "      <td>1.070</td>\n",
       "      <td>SAGCFN_22_01754</td>\n",
       "      <td>42.8</td>\n",
       "      <td>CGCTCATT</td>\n",
       "      <td>ATAGAGGC</td>\n",
       "      <td>417</td>\n",
       "      <td>2.8</td>\n",
       "    </tr>\n",
       "    <tr>\n",
       "      <th>1085876_20180227_S</th>\n",
       "      <td>NaN</td>\n",
       "      <td>1085876_20180227_S</td>\n",
       "      <td>1085876</td>\n",
       "      <td>2/27/2018</td>\n",
       "      <td>OP</td>\n",
       "      <td>RAH</td>\n",
       "      <td>Chest Clinic 6</td>\n",
       "      <td>40</td>\n",
       "      <td>6</td>\n",
       "      <td>Adult</td>\n",
       "      <td>...</td>\n",
       "      <td>1</td>\n",
       "      <td>0</td>\n",
       "      <td>0</td>\n",
       "      <td>0.132</td>\n",
       "      <td>SAGCFN_22_01828</td>\n",
       "      <td>19.0</td>\n",
       "      <td>AGCGATAG</td>\n",
       "      <td>GGCTCTGA</td>\n",
       "      <td>674</td>\n",
       "      <td>2.5</td>\n",
       "    </tr>\n",
       "    <tr>\n",
       "      <th>1128691_20171206_S</th>\n",
       "      <td>NaN</td>\n",
       "      <td>1128691_20171206_S</td>\n",
       "      <td>1128691</td>\n",
       "      <td>12/06/2017</td>\n",
       "      <td>IP</td>\n",
       "      <td>RAH</td>\n",
       "      <td>RAH 8E 05</td>\n",
       "      <td>47</td>\n",
       "      <td>7</td>\n",
       "      <td>Adult</td>\n",
       "      <td>...</td>\n",
       "      <td>3</td>\n",
       "      <td>0</td>\n",
       "      <td>0</td>\n",
       "      <td>1.750</td>\n",
       "      <td>SAGCFN_22_01748</td>\n",
       "      <td>33.4</td>\n",
       "      <td>TCCGGAGA</td>\n",
       "      <td>GGCTCTGA</td>\n",
       "      <td>535</td>\n",
       "      <td>4.5</td>\n",
       "    </tr>\n",
       "    <tr>\n",
       "      <th>1128691_20171218_S</th>\n",
       "      <td>1128691_20171218_S</td>\n",
       "      <td>1128691_20171218_S</td>\n",
       "      <td>1128691</td>\n",
       "      <td>12/18/2017</td>\n",
       "      <td>OP</td>\n",
       "      <td>RAH</td>\n",
       "      <td>Chest Clinic 1</td>\n",
       "      <td>47</td>\n",
       "      <td>7</td>\n",
       "      <td>Adult</td>\n",
       "      <td>...</td>\n",
       "      <td>1</td>\n",
       "      <td>0</td>\n",
       "      <td>0</td>\n",
       "      <td>3.400</td>\n",
       "      <td>SAGCFN_22_01743</td>\n",
       "      <td>30.8</td>\n",
       "      <td>ATTACTCG</td>\n",
       "      <td>CAGGACGT</td>\n",
       "      <td>352</td>\n",
       "      <td>4.8</td>\n",
       "    </tr>\n",
       "    <tr>\n",
       "      <th>1128691_20180116_S</th>\n",
       "      <td>1128691_20180116_S</td>\n",
       "      <td>1128691_20180116_S</td>\n",
       "      <td>1128691</td>\n",
       "      <td>1/16/2018</td>\n",
       "      <td>OP</td>\n",
       "      <td>RAH</td>\n",
       "      <td>Chest Clinic 4</td>\n",
       "      <td>47</td>\n",
       "      <td>7</td>\n",
       "      <td>Adult</td>\n",
       "      <td>...</td>\n",
       "      <td>1</td>\n",
       "      <td>0</td>\n",
       "      <td>0</td>\n",
       "      <td>0.708</td>\n",
       "      <td>SAGCFN_22_01772</td>\n",
       "      <td>27.4</td>\n",
       "      <td>ATTCAGAA</td>\n",
       "      <td>GGCTCTGA</td>\n",
       "      <td>500</td>\n",
       "      <td>3.8</td>\n",
       "    </tr>\n",
       "  </tbody>\n",
       "</table>\n",
       "<p>5 rows × 166 columns</p>\n",
       "</div>"
      ],
      "text/plain": [
       "                                minion                 MGI  pwCF_ID  \\\n",
       "NAME                                                                  \n",
       "1068841_20180306_S  1068841_20180306_S  1068841_20180306_S  1068841   \n",
       "1085876_20180227_S                 NaN  1085876_20180227_S  1085876   \n",
       "1128691_20171206_S                 NaN  1128691_20171206_S  1128691   \n",
       "1128691_20171218_S  1128691_20171218_S  1128691_20171218_S  1128691   \n",
       "1128691_20180116_S  1128691_20180116_S  1128691_20180116_S  1128691   \n",
       "\n",
       "                   Sample date IP vs OP Hospital            Room  Age  \\\n",
       "NAME                                                                    \n",
       "1068841_20180306_S   3/06/2018       OP      RAH  Chest Clinic 7   47   \n",
       "1085876_20180227_S   2/27/2018       OP      RAH  Chest Clinic 6   40   \n",
       "1128691_20171206_S  12/06/2017       IP      RAH       RAH 8E 05   47   \n",
       "1128691_20171218_S  12/18/2017       OP      RAH  Chest Clinic 1   47   \n",
       "1128691_20180116_S   1/16/2018       OP      RAH  Chest Clinic 4   47   \n",
       "\n",
       "                    Age groups Paediatric vs Adult  ... Sum of meds  \\\n",
       "NAME                                                ...               \n",
       "1068841_20180306_S           7               Adult  ...           0   \n",
       "1085876_20180227_S           6               Adult  ...           1   \n",
       "1128691_20171206_S           7               Adult  ...           3   \n",
       "1128691_20171218_S           7               Adult  ...           1   \n",
       "1128691_20180116_S           7               Adult  ...           1   \n",
       "\n",
       "                   Sum of antifungals  Sum of steroid + mabs  \\\n",
       "NAME                                                           \n",
       "1068841_20180306_S                  0                      0   \n",
       "1085876_20180227_S                  0                      0   \n",
       "1128691_20171206_S                  0                      0   \n",
       "1128691_20171218_S                  0                      0   \n",
       "1128691_20180116_S                  0                      0   \n",
       "\n",
       "                    DNA_extraction_ conc         SAGC ULN  DNA Conc. (ng/ul)  \\\n",
       "NAME                                                                           \n",
       "1068841_20180306_S                 1.070  SAGCFN_22_01754               42.8   \n",
       "1085876_20180227_S                 0.132  SAGCFN_22_01828               19.0   \n",
       "1128691_20171206_S                 1.750  SAGCFN_22_01748               33.4   \n",
       "1128691_20171218_S                 3.400  SAGCFN_22_01743               30.8   \n",
       "1128691_20180116_S                 0.708  SAGCFN_22_01772               27.4   \n",
       "\n",
       "                    Index I7  Index I5  Mean_Size_BP  \\\n",
       "NAME                                                   \n",
       "1068841_20180306_S  CGCTCATT  ATAGAGGC           417   \n",
       "1085876_20180227_S  AGCGATAG  GGCTCTGA           674   \n",
       "1128691_20171206_S  TCCGGAGA  GGCTCTGA           535   \n",
       "1128691_20171218_S  ATTACTCG  CAGGACGT           352   \n",
       "1128691_20180116_S  ATTCAGAA  GGCTCTGA           500   \n",
       "\n",
       "                   Total Clusters Passing Filter (Million)  \n",
       "NAME                                                        \n",
       "1068841_20180306_S                                     2.8  \n",
       "1085876_20180227_S                                     2.5  \n",
       "1128691_20171206_S                                     4.5  \n",
       "1128691_20171218_S                                     4.8  \n",
       "1128691_20180116_S                                     3.8  \n",
       "\n",
       "[5 rows x 166 columns]"
      ]
     },
     "execution_count": 2,
     "metadata": {},
     "output_type": "execute_result"
    }
   ],
   "source": [
    "sequence_type = 'MGI_minion'\n",
    "metadata = cf_analysis_lib.read_metadata(datadir, sequence_type)\n",
    "metadata.head(5)"
   ]
  },
  {
   "cell_type": "markdown",
   "id": "331c83ad-3037-4e18-956d-229a77953ce3",
   "metadata": {},
   "source": [
    "# Who has _Pseudomonas_"
   ]
  },
  {
   "cell_type": "code",
   "execution_count": 3,
   "id": "3f72ef05-dae7-41a5-a218-edd236bf2fb6",
   "metadata": {},
   "outputs": [
    {
     "data": {
      "text/plain": [
       "(91, 166)"
      ]
     },
     "execution_count": 3,
     "metadata": {},
     "output_type": "execute_result"
    }
   ],
   "source": [
    "metadata[metadata['CS_Pseudomonas aeruginosa'] == 0].shape"
   ]
  },
  {
   "cell_type": "code",
   "execution_count": 4,
   "id": "eee65c15-4049-421c-be81-05876dd2803f",
   "metadata": {},
   "outputs": [
    {
     "data": {
      "text/plain": [
       "44"
      ]
     },
     "execution_count": 4,
     "metadata": {},
     "output_type": "execute_result"
    }
   ],
   "source": [
    "len(metadata[metadata['CS_Pseudomonas aeruginosa'] == 0]['pwCF_ID'].unique())"
   ]
  },
  {
   "cell_type": "code",
   "execution_count": 6,
   "id": "f115a67d-de68-47fa-bdb5-c807c20174e7",
   "metadata": {},
   "outputs": [],
   "source": [
    "nop = set(metadata[metadata['CS_Pseudomonas aeruginosa'] == 0]['pwCF_ID'].unique())\n",
    "yep = set(metadata[metadata['CS_Pseudomonas aeruginosa'] == 1]['pwCF_ID'].unique())"
   ]
  },
  {
   "cell_type": "code",
   "execution_count": 7,
   "id": "353be2dd-4e0b-4bba-9a69-d50d74b24eb9",
   "metadata": {},
   "outputs": [
    {
     "data": {
      "text/plain": [
       "{650003, 658355, 676138, 698564, 715927, 748160, 748699, 788707}"
      ]
     },
     "execution_count": 7,
     "metadata": {},
     "output_type": "execute_result"
    }
   ],
   "source": [
    "nop.intersection(yep)"
   ]
  },
  {
   "cell_type": "markdown",
   "id": "a5d0dd2c-e513-4a1b-8938-0c4fb5a6dad3",
   "metadata": {},
   "source": [
    "### Get the unique people, and only choose the first sampling date"
   ]
  },
  {
   "cell_type": "code",
   "execution_count": null,
   "id": "c26d4e28-1c92-4685-a14c-c54624afe82b",
   "metadata": {},
   "outputs": [],
   "source": [
    "idx = metadata.groupby(\"pwCF_ID\")['Sample date'].idxmin()\n",
    "um = metadata.loc[idx]\n",
    "um"
   ]
  },
  {
   "cell_type": "code",
   "execution_count": null,
   "id": "55307685-287c-4ef0-b6e1-2c38b8ef2e5b",
   "metadata": {},
   "outputs": [],
   "source": [
    "Q1 = um['Age'].quantile(0.25)\n",
    "Q3 = um['Age'].quantile(0.75)\n",
    "print(f\"Median: {um['Age'].median()} and IQR = {Q3 - Q1} ({Q1}-{Q3})\")"
   ]
  },
  {
   "cell_type": "code",
   "execution_count": null,
   "id": "67393234-263d-4b89-9178-37ea282f5dd4",
   "metadata": {},
   "outputs": [],
   "source": [
    "um[um['Age'] >= 18].shape"
   ]
  },
  {
   "cell_type": "code",
   "execution_count": null,
   "id": "d4fdecaf-dd6e-4263-8fb9-25d2bc8fbb99",
   "metadata": {},
   "outputs": [],
   "source": [
    "print(f\"First sample date: {metadata['Sample date'].min()} and last: {metadata['Sample date'].max()}\")\n",
    "print(f\"Number of days between = {metadata['Sample date'].max() - metadata['Sample date'].min()}\")"
   ]
  },
  {
   "cell_type": "code",
   "execution_count": null,
   "id": "4ffebdfe-1eda-4c56-badf-6f8f309195d9",
   "metadata": {},
   "outputs": [],
   "source": [
    "sum(metadata[['pwCF_ID']].value_counts() > 1)"
   ]
  },
  {
   "cell_type": "code",
   "execution_count": null,
   "id": "c180a3b2-f774-4324-b625-a10ca56807ff",
   "metadata": {},
   "outputs": [],
   "source": [
    "for col in metadata.columns:\n",
    "    counts = um[col].value_counts()\n",
    "    if len(counts) > 3:\n",
    "        print(f\"{col}\\t{len(counts)} values\")\n",
    "    else:    \n",
    "        summary = \"; \".join([f\"{cat}: {count}\" for cat, count in counts.items()])\n",
    "        print(f\"{col}\\t{summary}\")"
   ]
  },
  {
   "cell_type": "code",
   "execution_count": null,
   "id": "a863b407-3461-4f8c-8d3a-92c9e6a54d84",
   "metadata": {},
   "outputs": [],
   "source": [
    "for col in metadata.columns:\n",
    "    counts = metadata[col].value_counts()\n",
    "    if len(counts) > 3:\n",
    "        print(f\"{col}\\t{len(counts)} values\")\n",
    "    else:    \n",
    "        summary = \"; \".join([f\"{cat}: {count}\" for cat, count in counts.items()])\n",
    "        print(f\"{col}\\t{summary}\")"
   ]
  },
  {
   "cell_type": "code",
   "execution_count": null,
   "id": "450ef10c-ffb1-4c05-ae6b-14830d132a14",
   "metadata": {},
   "outputs": [],
   "source": [
    "metadata['DNA_extraction_ conc']"
   ]
  },
  {
   "cell_type": "code",
   "execution_count": null,
   "id": "8b63516d-35f9-4e2a-b9db-2b41b660e12d",
   "metadata": {},
   "outputs": [],
   "source": [
    "metadata['CS_Inquilinus limosus'].dtypes"
   ]
  },
  {
   "cell_type": "markdown",
   "id": "3dfa8bc1-caae-4eab-974e-d9e9180dc5a1",
   "metadata": {},
   "source": [
    "### \n"
   ]
  },
  {
   "cell_type": "code",
   "execution_count": null,
   "id": "9d773ab9-79a4-47d5-a86b-8738e49a8f29",
   "metadata": {},
   "outputs": [],
   "source": [
    "for col in metadata.select_dtypes(include='int64').columns:\n",
    "    counts = metadata[col].value_counts()\n",
    "    if len(counts) > 3:\n",
    "        # print(f\"{col}\\t{len(counts)} values\")\n",
    "        continue\n",
    "    else:\n",
    "        #summary = \"; \".join([f\"{cat}: {count}\" for cat, count in counts.items()])\n",
    "        if int(1) in counts:\n",
    "            summary = f\"{counts[int(1)]}\"\n",
    "        elif int(0) in counts and counts[int(0)] == 127:\n",
    "            print(f\"{col}\\tNo positives\")\n",
    "        else:\n",
    "            summary = \"; \".join([f\"{cat}: {count}\" for cat, count in counts.items()])\n",
    "        print(f\"{col}\\t{summary}\")\n",
    "    "
   ]
  },
  {
   "cell_type": "code",
   "execution_count": null,
   "id": "9594b377-d819-4c88-8005-6c4ae7dcc62b",
   "metadata": {},
   "outputs": [],
   "source": [
    "for c in metadata.columns:\n",
    "    if 'pseudomon' in c.lower():\n",
    "        print(c)"
   ]
  },
  {
   "cell_type": "code",
   "execution_count": null,
   "id": "7feb70cb-5194-491a-9dac-29e68cb4d40c",
   "metadata": {},
   "outputs": [],
   "source": [
    "metadata[['CS_Pseudomonas aeruginosa', 'CS_MDR_Pseudomonas aeruginosa', 'O_Pseudomonas aeruginosa (multi-resistant)', 'O_Pseudomonas aeruginosa (non-mucoid)', 'O_Pseudomonas aeruginosa (mucoid)']]"
   ]
  },
  {
   "cell_type": "code",
   "execution_count": null,
   "id": "43baf5bf-4971-48c6-a285-ee7be68586a1",
   "metadata": {},
   "outputs": [],
   "source": [
    "metadata[metadata['CS_MDR_Pseudomonas aeruginosa'] == 1][['CS_Pseudomonas aeruginosa', 'CS_MDR_Pseudomonas aeruginosa']]"
   ]
  },
  {
   "cell_type": "code",
   "execution_count": null,
   "id": "197b8a7e-04f9-423b-9fd9-e134b6c77463",
   "metadata": {},
   "outputs": [],
   "source": [
    "metadata[metadata['CS_Pseudomonas aeruginosa'] == 1][['CS_Pseudomonas aeruginosa', 'CS_MDR_Pseudomonas aeruginosa']].shape"
   ]
  },
  {
   "cell_type": "code",
   "execution_count": null,
   "id": "ced573f7-4ad8-4975-b0a8-dc1125aae5ba",
   "metadata": {},
   "outputs": [],
   "source": [
    "t = '\"; \"'.join(sorted(list(metadata.columns)))\n",
    "print(f'\"{t}\"')"
   ]
  },
  {
   "cell_type": "code",
   "execution_count": null,
   "id": "e05a6590-5c60-4905-b89b-96bdbc71a410",
   "metadata": {},
   "outputs": [],
   "source": [
    "antibiotics = ['1 Cephalexin_PO', '1 Flucloaxcillin_PO', '1 Itraconazole (Lozenoc)_PO', '1 Sulfamethoxazole_trimethoprim (Bactrim)_PO', '2 Amikacin_INH', '2 Amoxicillin & Potassium clavulanate (Aug Duo)_PO', '2 Amphotericin B (Ambisome)_INH', '2 Azithromycin_PO', '2 Ceftazidime_INH', '2 Ciprofloxacin_PO', '2 Clarithromycin_PO', '2 Clofazimine PO', '2 Colistin_IHN', '2 prednisolone_PO', '2 tobramycin_INH', '3 Azithromycin_IV', '3 Aztreonam_IV', '3 Cefopime_IV', '3 Ceftazidime_IV', '3 Imipenem', '3 Ivacaftor (Kalydeco)', '3 Meropenem_IV', '3 Methylpredinosolone_IV', '3 Omalizumab_SC', '3 piperacillin sodium, tazobactam sodium (Tazocin)_IV', '3 tobramycin_IV', '4 Amikacin_IV', '4 Cefoxitin_IV', '4 Colistin_IV']"
   ]
  },
  {
   "cell_type": "code",
   "execution_count": null,
   "id": "719e8b8a-16ee-42ef-aa1c-5331b83f4fbf",
   "metadata": {},
   "outputs": [],
   "source": [
    "t = '\"; \"'.join(sorted(antibiotics))\n",
    "print(f'\"{t}\"')"
   ]
  },
  {
   "cell_type": "code",
   "execution_count": null,
   "id": "c7fadad7-46b4-4401-ab0c-0585cdbd57c8",
   "metadata": {},
   "outputs": [],
   "source": [
    "combinations = {\n",
    "'Amikacin' : ['2 Amikacin_INH', '4 Amikacin_IV'],\n",
    "'Azithromycin' : ['2 Azithromycin_PO', '3 Azithromycin_IV'],\n",
    "'Tobramycin' : ['2 tobramycin_INH', '3 tobramycin_IV'],\n",
    "'Colistin' : ['2 Colistin_IHN', '4 Colistin_IV'],\n",
    "'Ceftazidime' : ['2 Ceftazidime_INH', '3 Ceftazidime_IV'],\n",
    "'Prednisolone' : ['2 prednisolone_PO', '3 Methylpredinosolone_IV']\n",
    "}"
   ]
  },
  {
   "cell_type": "code",
   "execution_count": null,
   "id": "21428737-9a9e-4e24-8792-a3b6afb299ce",
   "metadata": {},
   "outputs": [],
   "source": [
    "metadata[(metadata['2 Amikacin_INH'] == 1) | (metadata['4 Amikacin_IV'] == 1)]"
   ]
  },
  {
   "cell_type": "code",
   "execution_count": null,
   "id": "0223452b-5e2c-4e23-b5d1-37f5b4de28dd",
   "metadata": {},
   "outputs": [],
   "source": [
    "tmpdf = pd.DataFrame()\n",
    "for new_col, col_array in combinations.items():\n",
    "    tmpdf[new_col] = metadata[col_array].any(axis=1).astype(int)\n",
    "tmpdf"
   ]
  },
  {
   "cell_type": "code",
   "execution_count": null,
   "id": "aacc3092-275c-4e37-9207-e621d97ee445",
   "metadata": {},
   "outputs": [],
   "source": [
    "tmpdf.sum()"
   ]
  },
  {
   "cell_type": "code",
   "execution_count": null,
   "id": "371e892a-9044-44c2-8a64-4290bc72b8b1",
   "metadata": {},
   "outputs": [],
   "source": [
    "len(metadata['pwCF_ID'].unique())"
   ]
  },
  {
   "cell_type": "markdown",
   "id": "dad975cd-a9f8-4175-af53-3f5ae86e18be",
   "metadata": {},
   "source": [
    "Generate some statistics about our samples"
   ]
  },
  {
   "cell_type": "code",
   "execution_count": null,
   "id": "d5409a5c-be8e-4da5-825f-9a78e7c4cecf",
   "metadata": {},
   "outputs": [],
   "source": [
    "sequence_type='MGI'\n",
    "\n",
    "for taxa in ['kingdom', 'order', 'phylum', 'class', 'family', 'genus']:\n",
    "    genus_otu = cf_analysis_lib.read_taxonomy(datadir, sequence_type, taxa)\n",
    "    genus_otu = genus_otu.T\n",
    "    print(f\"The taxonomy df for {taxa} has shape: {genus_otu.shape}\")\n",
    "\n",
    "metadata = cf_analysis_lib.read_metadata(datadir, sequence_type, categorise=True)\n",
    "print(f\"The metadata df has shape: {metadata.shape}\")\n"
   ]
  },
  {
   "cell_type": "code",
   "execution_count": null,
   "id": "6997e05e-4f03-4bab-9a6b-a6a579a5aad5",
   "metadata": {},
   "outputs": [],
   "source": [
    "for taxa in ['kingdom', 'order', 'phylum', 'class', 'family', 'genus']:\n",
    "    genus_otu = cf_analysis_lib.read_taxonomy(datadir, sequence_type, taxa)\n",
    "    genus_otu = genus_otu.T\n",
    "    print(f\"we have {genus_otu.shape[1]} taxonomic group for {taxa}, and \", end=\"\")\n",
    "print()"
   ]
  },
  {
   "cell_type": "code",
   "execution_count": null,
   "id": "5bb3790b-3ba1-4ada-bb6b-17e028e3d0fc",
   "metadata": {},
   "outputs": [],
   "source": [
    "for sslevel in ['all_norm_ss.tsv.gz', 'class_norm_ss.tsv.gz', 'level1_norm_ss.tsv.gz', 'level2_norm_ss.tsv.gz', 'subsystems_norm_ss.tsv.gz']:\n",
    "    ss_df = cf_analysis_lib.read_subsystems(os.path.join(datadir, sequence_type, \"FunctionalAnalysis\", \"subsystems\", sslevel), sequence_type)\n",
    "    ss_df = ss_df.T\n",
    "    print(f\"we have {ss_df.shape[1]} features for {sslevel.replace('_norm_ss.tsv.gz', '')} subsystems, and \", end=\"\")\n",
    "print()"
   ]
  },
  {
   "cell_type": "code",
   "execution_count": null,
   "id": "c01d9e8a-5644-4920-8ab4-8eb5dceb6b54",
   "metadata": {},
   "outputs": [],
   "source": [
    "sslevel = 'all_norm_ss.tsv.gz'\n",
    "ss_df = cf_analysis_lib.read_subsystems(os.path.join(datadir, sequence_type, \"FunctionalAnalysis\", \"subsystems\", sslevel), sequence_type)\n",
    "ss_df = ss_df.T\n",
    "print(f\"The subsystems df for {sslevel} has shape: {ss_df.shape}\")"
   ]
  },
  {
   "cell_type": "code",
   "execution_count": null,
   "id": "3ae5bc4d-77d8-4542-acb1-dcc5738b7c4a",
   "metadata": {},
   "outputs": [],
   "source": [
    "os.path.join(datadir, sequence_type, \"FunctionalAnalysis\", \"subsystems\", sslevel)"
   ]
  },
  {
   "cell_type": "code",
   "execution_count": null,
   "id": "ad35e6dd-77a4-4ae7-8127-21829ee5a2be",
   "metadata": {},
   "outputs": [],
   "source": [
    "intcol = 'CFLD'\n",
    "\n",
    "lens = metadata[intcol].count()\n",
    "noss = metadata[intcol].str.contains('No').sum()\n",
    "yess = metadata[intcol].str.contains('Yes').sum()\n",
    "print(f\"No: {noss} Yes: {yess} tot: {noss+yess} len: {lens}\")"
   ]
  },
  {
   "cell_type": "code",
   "execution_count": null,
   "id": "7396e261-1bcb-446f-9ac8-00066ea82022",
   "metadata": {},
   "outputs": [],
   "source": [
    "metadata[intcol].dropna().cat.categories"
   ]
  },
  {
   "cell_type": "code",
   "execution_count": null,
   "id": "2e5a97db-17af-4bd9-8bcc-c30ca7aac7cd",
   "metadata": {},
   "outputs": [],
   "source": [
    "tmp = metadata[metadata[intcol] != 'Unknown'].dropna()\n",
    "tmp[intcol]"
   ]
  },
  {
   "cell_type": "code",
   "execution_count": null,
   "id": "379832da-cc7c-427a-8f08-42a7ac51f4bd",
   "metadata": {},
   "outputs": [],
   "source": [
    "mask = metadata[intcol].notna() & (metadata[intcol] != 'Unknown')\n",
    "tmpdf = metadata[mask]\n",
    "tmpdf[tmpdf[intcol] == 'Unknown']"
   ]
  },
  {
   "cell_type": "code",
   "execution_count": null,
   "id": "69a61c55-0ed3-4458-b553-f5da7745784d",
   "metadata": {},
   "outputs": [],
   "source": [
    "for c in sorted(metadata.columns):\n",
    "    if 'CS' in c:\n",
    "        print(c)"
   ]
  },
  {
   "cell_type": "code",
   "execution_count": null,
   "id": "f1c61b7a-5ce3-4fd0-b17d-f6b3dd362d4d",
   "metadata": {},
   "outputs": [],
   "source": [
    "for intcol in sorted(metadata.columns):\n",
    "    if 'CS' in intcol:\n",
    "        try:\n",
    "            mn = metadata.groupby(intcol).size()[1]\n",
    "        except KeyError as e:\n",
    "            mn = \"NOT KNOWN\"\n",
    "        print(f\"{intcol}XXX{mn} pwCF\")"
   ]
  },
  {
   "cell_type": "code",
   "execution_count": null,
   "id": "cef12604-b99d-404f-8019-16c1988812df",
   "metadata": {},
   "outputs": [],
   "source": [
    "intcol = 'CS_Aspergillus fumigatus'\n",
    "metadata[intcol].values"
   ]
  },
  {
   "cell_type": "code",
   "execution_count": null,
   "id": "5ce50b11-28d9-4f5d-81aa-4badcd0d753e",
   "metadata": {},
   "outputs": [],
   "source": [
    "intcol = 'CO2'\n",
    "metadata[intcol].values"
   ]
  },
  {
   "cell_type": "code",
   "execution_count": null,
   "id": "2c410ff7-eaab-43a0-be32-64c72526ebdd",
   "metadata": {},
   "outputs": [],
   "source": [
    "taxa = 'family'\n",
    "genus_otu = cf_analysis_lib.read_taxonomy(datadir, sequence_type, taxa, all_taxa=True)\n",
    "genus_otu = genus_otu.T\n",
    "genus_otu"
   ]
  },
  {
   "cell_type": "code",
   "execution_count": null,
   "id": "b4430d80-27e4-4fc5-86b4-233ccd933d9e",
   "metadata": {},
   "outputs": [],
   "source": [
    "for c in genus_otu.columns:\n",
    "    if 'Asper' in c:\n",
    "        print(c)"
   ]
  },
  {
   "cell_type": "code",
   "execution_count": null,
   "id": "a8e2de27-3cbc-4125-82b9-a6c4362be85d",
   "metadata": {},
   "outputs": [],
   "source": [
    "genus_otu.loc['650003_20180207_S', 'Aspergillaceae']"
   ]
  },
  {
   "cell_type": "code",
   "execution_count": null,
   "id": "2717ef4c-4dc2-442f-9011-d338393b5223",
   "metadata": {},
   "outputs": [],
   "source": [
    "aspergs = []\n",
    "for c in metadata.columns:\n",
    "    if c.startswith('CS_Aspergillus'):\n",
    "        aspergs.append(c)\n",
    "aspergs"
   ]
  },
  {
   "cell_type": "code",
   "execution_count": null,
   "id": "ef391db7-540e-431a-b356-392b21c79f0b",
   "metadata": {},
   "outputs": [],
   "source": [
    "metadata.loc['650003_20180207_S', aspergs]"
   ]
  },
  {
   "cell_type": "code",
   "execution_count": null,
   "id": "d7b79c17-c59d-4d74-880b-41296c28a297",
   "metadata": {},
   "outputs": [],
   "source": [
    "metadata.loc['676138_20180405_S', aspergs]"
   ]
  },
  {
   "cell_type": "code",
   "execution_count": null,
   "id": "c5cf793d-86ba-4600-b6b6-ab7d5fd08659",
   "metadata": {},
   "outputs": [],
   "source": [
    "metadata[metadata['pwCF_ID']==676138].loc[:,['pwCF_ID', 'Sample date', 'Sum of antifungals'] + aspergs].sort_values(by='Sample date')"
   ]
  },
  {
   "cell_type": "code",
   "execution_count": null,
   "id": "f981957a-490a-4900-bc8f-ac0757cfa017",
   "metadata": {},
   "outputs": [],
   "source": [
    "for c in metadata.columns:\n",
    "    if 'fungal' in c.lower():\n",
    "        print(c)"
   ]
  },
  {
   "cell_type": "code",
   "execution_count": null,
   "id": "162fd26c-f841-4e75-9751-442d47cc895e",
   "metadata": {},
   "outputs": [],
   "source": [
    "for c in metadata.columns:\n",
    "    if 'mucoid' in c.lower():\n",
    "        print(c)"
   ]
  },
  {
   "cell_type": "code",
   "execution_count": null,
   "id": "5c2442eb-8b2c-471e-82e3-c0a04fd480c6",
   "metadata": {},
   "outputs": [],
   "source": [
    "metadata[metadata['CS_Pseudomonas aeruginosa'] == 1][['Pseudomonas Culture', 'CS_Pseudomonas aeruginosa', 'CS_mucoid', 'CS_non-mucoid']]"
   ]
  },
  {
   "cell_type": "code",
   "execution_count": null,
   "id": "8f2557d3-0999-4638-ac5a-1abc1a705da7",
   "metadata": {},
   "outputs": [],
   "source": [
    "for f in metadata.index:\n",
    "    if metadata.loc[f, 'Pseudomonas Culture'] != metadata.loc[f, 'CS_Pseudomonas aeruginosa']:\n",
    "        print(metadata.loc[f, ['Pseudomonas Culture', 'CS_Pseudomonas aeruginosa']])"
   ]
  },
  {
   "cell_type": "code",
   "execution_count": null,
   "id": "9ae318e2-6211-494f-8fe0-7b2df245b9ad",
   "metadata": {},
   "outputs": [],
   "source": [
    "metadata[(metadata['N12M_Pseudomonas aeruginosa (multi-resistant)'] != 1) & (metadata['N12M_Pseudomonas aeruginosa'] == 1)][['N12M_Pseudomonas aeruginosa (multi-resistant)', 'N12M_Pseudomonas aeruginosa']]"
   ]
  },
  {
   "cell_type": "code",
   "execution_count": null,
   "id": "1e602cbf-2670-44b6-8c83-bed94560786c",
   "metadata": {},
   "outputs": [],
   "source": [
    "for c in metadata.columns:\n",
    "    if 'fev' in c.lower() or 'fvc' in c.lower():\n",
    "        print(c)"
   ]
  },
  {
   "cell_type": "code",
   "execution_count": null,
   "id": "0b82cee9-9524-4766-8cab-d125e75a19a0",
   "metadata": {},
   "outputs": [],
   "source": [
    "sns.scatterplot(data=metadata, x='FEV1_RATIO_SCORE', y='FEV1/best FEV1')"
   ]
  },
  {
   "cell_type": "code",
   "execution_count": null,
   "id": "b8985192-d28b-4aeb-b60e-b23bd1d7903d",
   "metadata": {},
   "outputs": [],
   "source": [
    "sns.scatterplot(data=metadata, x='FEV1_Obstruction_Rank', y='FVC')"
   ]
  },
  {
   "cell_type": "code",
   "execution_count": null,
   "id": "d551f8c9-a3f5-4a79-b4e9-8ca1c27d2650",
   "metadata": {},
   "outputs": [],
   "source": [
    "tmp = metadata.copy()\n",
    "tmp['FEV/FVC'] = tmp['FEV1']/tmp['FVC']"
   ]
  },
  {
   "cell_type": "code",
   "execution_count": null,
   "id": "c7c7ecb3-52a0-47fd-b36e-fb1da201a705",
   "metadata": {},
   "outputs": [],
   "source": [
    "sns.scatterplot(data=tmp, x='FEV1_Obstruction_Rank', y='FEV/FVC')"
   ]
  },
  {
   "cell_type": "code",
   "execution_count": null,
   "id": "89571984-5d3f-4aa2-a837-5a6e3753e345",
   "metadata": {},
   "outputs": [],
   "source": [
    "for c in metadata.columns:\n",
    "    if 'CS_Inquilinus' in c:\n",
    "        print(f\"'{c}'\")"
   ]
  },
  {
   "cell_type": "code",
   "execution_count": null,
   "id": "92d17d6b-c965-4fd3-86f5-8082caa6b66e",
   "metadata": {},
   "outputs": [],
   "source": [
    "metadata[metadata['CS_Inquilinus limosus'] == 1]"
   ]
  },
  {
   "cell_type": "code",
   "execution_count": null,
   "id": "4a84ef55-82b3-49e2-88ca-84b8d8673fbf",
   "metadata": {},
   "outputs": [],
   "source": [
    "metadata.groupby(by='Gender').count()"
   ]
  },
  {
   "cell_type": "code",
   "execution_count": null,
   "id": "6724b403-c749-4e0d-a418-b6098ad1f46d",
   "metadata": {},
   "outputs": [],
   "source": []
  }
 ],
 "metadata": {
  "kernelspec": {
   "display_name": "BioinfieConda",
   "language": "python",
   "name": "bioinfieconda"
  },
  "language_info": {
   "codemirror_mode": {
    "name": "ipython",
    "version": 3
   },
   "file_extension": ".py",
   "mimetype": "text/x-python",
   "name": "python",
   "nbconvert_exporter": "python",
   "pygments_lexer": "ipython3",
   "version": "3.9.19"
  }
 },
 "nbformat": 4,
 "nbformat_minor": 5
}
