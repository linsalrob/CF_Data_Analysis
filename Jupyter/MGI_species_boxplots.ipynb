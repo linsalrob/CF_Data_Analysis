{
 "cells": [
  {
   "cell_type": "markdown",
   "id": "b1b67300-725a-4edd-ba23-2fbf2c044358",
   "metadata": {},
   "source": [
    "# Boxplots\n",
    "\n",
    "(c) 2023-2024 Nick Falk, Rob Edwards\n",
    "\n",
    "These boxplots are based on Nick's boxplot data, but this uses the \"new\" format taxonomy data that is the same for MGI and MinION\n",
    "\n",
    "**Note:** This data uses the raw counts, so if there is a read present we will report that as being detected!"
   ]
  },
  {
   "cell_type": "code",
   "execution_count": 16,
   "id": "2623812a-91ef-4867-8cde-4a8eb543bd3d",
   "metadata": {},
   "outputs": [],
   "source": [
    "import os\n",
    "import sys\n",
    "import pandas as pd\n",
    "import numpy as np\n",
    "import seaborn as sns\n",
    "import matplotlib.pyplot as plt\n",
    "from scipy import stats\n",
    "from statsmodels.stats.multitest import multipletests"
   ]
  },
  {
   "cell_type": "code",
   "execution_count": 17,
   "id": "0a69d260-32b8-466e-bb73-4958cadfb280",
   "metadata": {},
   "outputs": [],
   "source": [
    "df = pd.read_csv(\"../MGI/Taxonomy/MGI_reads_species.rawcounts.tsv.gz\", sep='\\t', compression='gzip')\n",
    "df = df[df['taxonomy'].str.contains('k__Bacteria')]\n",
    "df = df[~df['taxonomy'].str.endswith('s__')]\n",
    "df = df[~df['taxonomy'].str.contains('g__;')]\n",
    "genus_otu = df.set_index('taxonomy')\n",
    "genus_otu.index = genus_otu.index.str.split(';').str[-1].str.replace('s__', '')\n",
    "genus_otu.head()"
   ]
  },
  {
   "cell_type": "code",
   "execution_count": 18,
   "id": "3e070c84-c94c-4221-9715-68e31246c0ca",
   "metadata": {},
   "outputs": [],
   "source": [
    "# Normalization/Transformation\n",
    "# Square root transform\n",
    "sqrt_genus = np.sqrt(genus_otu)\n",
    "\n",
    "# Transpose the taxa table\n",
    "genus_otu2 = sqrt_genus.T\n",
    "genus_otu2.head()"
   ]
  },
  {
   "cell_type": "code",
   "execution_count": 19,
   "id": "1c8a7c4e-7555-4990-81a1-35a478aa5b72",
   "metadata": {},
   "outputs": [],
   "source": [
    "with open('genus_species.txt', 'w') as out:\n",
    "    print(\"\\n\".join(sorted(list(genus_otu2.columns))), file=out)"
   ]
  },
  {
   "cell_type": "code",
   "execution_count": 20,
   "id": "f903f63f-a087-44c8-a0b2-50c9be99ad6e",
   "metadata": {},
   "outputs": [],
   "source": [
    "# Load metadata table\n",
    "# This is generic so we can copy/paste. Yes, it should be a function, but its not.\n",
    "\n",
    "#sequence_type = 'minion_ID'\n",
    "sequence_type = 'MGI_ID'\n",
    "\n",
    "metadata = pd.read_csv(\"../Metadata/CF_Metadata_Table-JCJ-OD-v-2023-03-23-1352.tsv.gz\", encoding='utf-8', sep=\"\\t\", compression='gzip', index_col=0)\n",
    "metadata = metadata[~metadata[sequence_type].isna()]\n",
    "todrop = []\n",
    "for s in metadata[sequence_type]:\n",
    "    if s not in genus_otu2.index:\n",
    "        print(f\"ERROR: {s} not found in data frame, dropped from metadata\", file=sys.stderr)\n",
    "        todrop.append(s)\n",
    "\n",
    "metadata.drop(todrop, inplace=True)\n",
    "\n",
    "todrop = []\n",
    "for s in genus_otu2.index:\n",
    "    if not metadata[sequence_type].str.contains(s).any():\n",
    "        print(f\"ERROR: {s} not found in metadata, dropped from dataframe\", file=sys.stderr)\n",
    "        todrop.append(s)\n",
    "genus_otu2.drop(todrop, inplace=True)\n",
    "        \n",
    "if metadata.shape[0] != genus_otu2.shape[0]:\n",
    "    print(f\"ERROR: we have {metadata.shape[0]} rows in metadata and {genus_otu2.shape[0]} data rows\", file=sys.stderr)\n",
    "metadata.head()"
   ]
  },
  {
   "cell_type": "code",
   "execution_count": 21,
   "id": "1a53dac1-2aff-4ab6-8525-fa60515b65c4",
   "metadata": {},
   "outputs": [],
   "source": [
    "# Add \"X\" character to the beginning of each row name in the metadata table\n",
    "# We skip this, because it is an R thing, I don't think you can have indexes that start with integers in R?\n",
    "# metadata.index = 'X' + metadata.index.astype(str)"
   ]
  },
  {
   "cell_type": "code",
   "execution_count": 22,
   "id": "190ad884-9a6f-453e-8d68-f1ce4670399f",
   "metadata": {},
   "outputs": [],
   "source": [
    "# Merge the taxa table and metadata table by the shared row names\n",
    "merged1 = pd.merge(metadata, genus_otu2, left_index=True, right_index=True)\n",
    "merged1.head()"
   ]
  },
  {
   "cell_type": "code",
   "execution_count": 23,
   "id": "7da79fc1-10ca-4f1b-85b0-a73739483ece",
   "metadata": {},
   "outputs": [],
   "source": [
    "# Note, python allows spaces in column names!\n",
    "culture_columns = [\n",
    "    'CS_Pseudomonas aeruginosa',\n",
    "    'CS_Stenophotomonas maltophilia',\n",
    "    'NTM',\n",
    "    'CS_Mycobacteroides abscessus',\n",
    "    'CS_Mycobacterium intracellulare',\n",
    "    'CS_Staphylococcus  aureus',\n",
    "    'CS_Achromobacter xylosoxidans',\n",
    "    'CS_Burkholderia cepacia',\n",
    "    'CS_Haemophilus influenzae'\n",
    "]\n",
    "\n",
    "culture_pairs = {\n",
    "    'CS_Pseudomonas aeruginosa' : 'Pseudomonas aeruginosa',\n",
    "    'CS_Stenophotomonas maltophilia': 'Stenotrophomonas maltophilia',\n",
    "    'NTM' : 'Mycobacterium avium',\n",
    "    'CS_Mycobacteroides abscessus' : 'Mycobacteroides abscessus',\n",
    "    'CS_Mycobacterium intracellulare' : 'Mycobacterium avium',\n",
    "    'CS_Staphylococcus  aureus' : 'Staphylococcus aureus',\n",
    "    'CS_Achromobacter xylosoxidans' : 'Achromobacter xylosoxidans',\n",
    "    'CS_Burkholderia cepacia' : 'Burkholderia cepacia',\n",
    "    'CS_Haemophilus influenzae' : 'Haemophilus influenzae'\n",
    "}\n"
   ]
  },
  {
   "cell_type": "code",
   "execution_count": 24,
   "id": "3a62be34-74c3-4437-8fbf-4b5cb4e87224",
   "metadata": {},
   "outputs": [],
   "source": [
    "# Step 2: Create Boxplots\n",
    "def create_boxplot(data, culture_taxa, taxa):\n",
    "    subset_data = data[data[culture_taxa].notna()]\n",
    "    plt.figure(figsize=(10, 6))\n",
    "    # sns.boxplot(x=culture_taxa, y=taxa, data=subset_data, color='black', boxprops=dict(facecolor='white'))\n",
    "    sns.violinplot(x=culture_taxa, y=taxa, data=subset_data, hue=culture_taxa, palette='rocket_r', alpha=0.5, legend=False)\n",
    "    sns.stripplot(x=culture_taxa, y=taxa, data=subset_data, color='black', jitter=True, alpha=0.5, legend=False)\n",
    "    plt.title(\"\")\n",
    "    plt.xlabel(\"\")\n",
    "    plt.ylabel(\"Abundance in Patient\")\n",
    "    plt.xticks(ticks=[0, 1], labels=[\"Negative Culture\", \"Positive Culture\"])\n",
    "    plt.grid(False)\n",
    "    plt.tight_layout()\n",
    "    plt.show()"
   ]
  },
  {
   "cell_type": "code",
   "execution_count": 25,
   "id": "10e4e572-61a8-423e-bb72-87f183db10c5",
   "metadata": {},
   "outputs": [],
   "source": [
    "# Example usage\n",
    "create_boxplot(merged1, \"CS_Pseudomonas aeruginosa\", \"Pseudomonas aeruginosa\")"
   ]
  },
  {
   "cell_type": "code",
   "execution_count": 36,
   "id": "630f481d-357f-43d2-9f91-b5d3f7d6c62d",
   "metadata": {},
   "outputs": [],
   "source": [
    "fig, ax = plt.subplots(figsize=(18, 12), nrows=3, ncols=3, sharex=False, sharey=False)\n",
    "\n",
    "k = 0\n",
    "for i in [0, 1, 2]:\n",
    "    for j in [0, 1, 2]:\n",
    "        culture_taxa = culture_columns[k]\n",
    "        taxa = culture_pairs[culture_taxa]\n",
    "        subset_data = merged1[merged1[culture_taxa].notna()]\n",
    "        g = sns.violinplot(x=culture_taxa, y=taxa, data=subset_data, hue=culture_taxa, palette='rocket_r', alpha=0.5, ax=ax[j][i], legend=False, inner=None)\n",
    "        g = sns.stripplot(x=culture_taxa, y=taxa, data=subset_data, color='black', jitter=True, alpha=0.5, ax=ax[j][i], legend=False)\n",
    "        g.set_xlabel(\"\")\n",
    "        g.set_ylabel(f\"Raw {taxa} Reads in Patient\")\n",
    "        g.set_xlim(-0.5, 1.5)\n",
    "        g.set_xticks(ticks=[0, 1], labels=[\"Negative Culture\", \"Positive Culture\"])\n",
    "        g.set_title(f\"{culture_taxa.replace('CS_', '')} culture status\")\n",
    "        k+=1\n",
    "        \n",
    "\n",
    "plt.tight_layout()\n",
    "plt.show()\n",
    "fig.savefig('MGI_species_boxplots.png') \n"
   ]
  },
  {
   "cell_type": "code",
   "execution_count": 27,
   "id": "5de90233-b0a8-40a8-96cd-cf891d35fb2d",
   "metadata": {},
   "outputs": [],
   "source": [
    "# Step 3: Additionally Stats Tests\n",
    "# Perform Kruskal-Wallis Test\n",
    "kruskal_stat, p_value = stats.kruskal(\n",
    "    merged1.loc[merged1['CS_Pseudomonas aeruginosa'] == 0.0, 'Pseudomonas aeruginosa'],\n",
    "    merged1.loc[merged1['CS_Pseudomonas aeruginosa'] == 1.0, 'Pseudomonas aeruginosa']\n",
    ")\n",
    "print(f'Kruskal-Wallis Test statistic: {kruskal_stat}, p-value: {p_value}')"
   ]
  },
  {
   "cell_type": "code",
   "execution_count": 33,
   "id": "8c3b499f-e335-4448-8ba3-c5f6616d7c2a",
   "metadata": {},
   "outputs": [],
   "source": [
    "culture_taxa = culture_columns[6]\n",
    "print(f\"Taxa is {culture_taxa}\")\n",
    "taxa = culture_pairs[culture_taxa]\n",
    "print(f\"taxa is {taxa}\")\n",
    "subset_data = merged1[merged1[culture_taxa].notna()]\n",
    "subset_data[subset_data['CS_Achromobacter xylosoxidans'] > 0]"
   ]
  },
  {
   "cell_type": "code",
   "execution_count": 40,
   "id": "d8d90cca-f34a-462c-9dd7-6abd4d50cf58",
   "metadata": {},
   "outputs": [],
   "source": [
    "patients_with_both = merged1.groupby('Patient.x')['CS_Pseudomonas aeruginosa'].unique()\n",
    "patients_with_both = patients_with_both[patients_with_both.apply(lambda x: set(x) == {0, 1})]\n",
    "patients_with_both = list(patients_with_both.index)"
   ]
  },
  {
   "cell_type": "code",
   "execution_count": 41,
   "id": "bf7552ec-f67a-4b74-a5a0-342515f657db",
   "metadata": {},
   "outputs": [],
   "source": [
    "patients_with_both"
   ]
  },
  {
   "cell_type": "code",
   "execution_count": 46,
   "id": "2d1c17e5-20b8-4f44-acbf-1c80dea3927a",
   "metadata": {},
   "outputs": [],
   "source": []
  },
  {
   "cell_type": "code",
   "execution_count": 48,
   "id": "33123cc3-14f6-4004-b566-18fdcba4ae7f",
   "metadata": {},
   "outputs": [],
   "source": [
    "fig, ax = plt.subplots(figsize=(18, 12), nrows=3, ncols=3, sharex=False, sharey=False)\n",
    "\n",
    "k = 0\n",
    "for i in [0, 1, 2]:\n",
    "    for j in [0, 1, 2]:\n",
    "        culture_taxa = culture_columns[0]\n",
    "        taxa = culture_pairs[culture_taxa]\n",
    "        subset_data = merged1[(merged1[culture_taxa].notna()) & (merged1['Patient.x'] == patients_with_both[k])]\n",
    "        g = sns.violinplot(x=culture_taxa, y=taxa, data=subset_data, hue=culture_taxa, palette='rocket_r', alpha=0.5, ax=ax[j][i], legend=False, inner=None)\n",
    "        g = sns.stripplot(x=culture_taxa, y=taxa, data=subset_data, color='black', jitter=True, alpha=0.5, ax=ax[j][i], legend=False)\n",
    "        g.set_xlabel(\"\")\n",
    "        g.set_ylabel(f\"Raw {taxa} Reads in Patient\")\n",
    "        g.set_xlim(-0.5, 1.5)\n",
    "        g.set_xticks(ticks=[0, 1], labels=[\"Negative Culture\", \"Positive Culture\"])\n",
    "        g.set_title(f\"Pseudomonas in {patients_with_both[k]}\")\n",
    "        k+=1\n",
    "        \n",
    "\n",
    "plt.tight_layout()\n",
    "plt.show()"
   ]
  },
  {
   "cell_type": "code",
   "execution_count": 52,
   "id": "8526e4e3-6c04-4aa7-a895-09bf3404db3f",
   "metadata": {},
   "outputs": [],
   "source": [
    "merged1[merged1['Patient.x'] == 658355][['CS_Pseudomonas aeruginosa', 'Pseudomonas aeruginosa']]"
   ]
  },
  {
   "cell_type": "code",
   "execution_count": 53,
   "id": "97e8cb7a-f10f-4cc2-8707-adf5bd66aef6",
   "metadata": {},
   "outputs": [],
   "source": [
    "merged1[merged1['Patient.x'] == 676138][['CS_Pseudomonas aeruginosa', 'Pseudomonas aeruginosa']]"
   ]
  },
  {
   "cell_type": "code",
   "execution_count": null,
   "id": "2bf2e603-d3d8-4395-91ac-4cd4dce2581b",
   "metadata": {},
   "outputs": [],
   "source": []
  }
 ],
 "metadata": {
  "kernelspec": {
   "display_name": "BioinfieConda",
   "language": "python",
   "name": "bioinfieconda"
  },
  "language_info": {
   "codemirror_mode": {
    "name": "ipython",
    "version": 3
   },
   "file_extension": ".py",
   "mimetype": "text/x-python",
   "name": "python",
   "nbconvert_exporter": "python",
   "pygments_lexer": "ipython3",
   "version": "3.9.19"
  }
 },
 "nbformat": 4,
 "nbformat_minor": 5
}
