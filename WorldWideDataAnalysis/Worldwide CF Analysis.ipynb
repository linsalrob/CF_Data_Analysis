{
 "cells": [
  {
   "cell_type": "markdown",
   "id": "67e8374d-d165-4fc2-8cc8-16afc5c4a4b3",
   "metadata": {},
   "source": [
    "Note: This is a cleaner version than the data exploring one.\n",
    "\n",
    "# Worldwide CF Data Analysis\n",
    "\n",
    "We used a Google BigQuery to identify all the CF metagenomes, and we've analysed them here.\n",
    "\n",
    "Initially, we compared the subsystems content, and that shows that our metagenomes are similar to other CF metagenomes. However, it did not make a great figure.\n",
    "\n",
    "We developed a MinHash-based approach, where we calculate all pairwise distances, and use them to demonstrate that the Adelaide CF dataset is no different from other data.\n",
    "\n",
    "We identify all the metagenomes available in the SRA.\n",
    "\n",
    "First, go to [the NCBI BioProject pages for Cystic Fibrosis](https://www.ncbi.nlm.nih.gov/bioproject/?term=cystic+fibrosis) and choose *Send To:* and then *File* and *Accessions List*. That saves a list of one bioproject per line (_Note:_ Don't use Bioproject ID list. The list you want should have items starting PRJEB).\n",
    "\n",
    "We upload that to Google Console as a new file in the table called `bioproject_accs`.\n",
    "\n",
    "Next, we run this search.\n",
    "\n",
    "```\n",
    "create temp table AMPLICON(acc STRING) as select acc as amplicon from `nih-sra-datastore.sra.metadata` where assay_type = 'AMPLICON' or libraryselection = 'PCR';\n",
    "# sra-searches.cystic_fibrosis.bioproject_accs is downloaded from NCBI BioProject https://www.ncbi.nlm.nih.gov/bioproject/?term=cystic+fibrosis and uploaded as a table\n",
    "create temp table BIOPROJ(bioproject STRING) as SELECT string_field_0 FROM `sra-searches.cystic_fibrosis.bioproject_accs` WHERE string_field_0 IS NOT NULL;\n",
    "select * from `nih-sra-datastore.sra.metadata` where acc not in (select acc from AMPLICON) and bioproject in (select bioproject from BIOPROJ) and (librarysource = \"METAGENOMIC\" or librarysource = 'METATRANSCRIPTOMIC' or organism like \"%microbiom%\" OR organism like \"%metagenom%\");\n",
    "```\n",
    "\n",
    "When I ran this time (18/09/2024), there were 6,467 results returned. I save those as a newline separated bigquery results file (current version: [bq-results-20240918-082050-1726647675307.json.gz](bq-results-20240918-082050-1726647675307.json)).\n",
    "\n"
   ]
  },
  {
   "cell_type": "code",
   "execution_count": 1,
   "id": "4e5baa01-9e94-40a8-9528-2a41024213a8",
   "metadata": {},
   "outputs": [],
   "source": [
    "# load our libraries\n",
    "import os\n",
    "import sys\n",
    "\n",
    "import re\n",
    "import numpy as np\n",
    "import matplotlib.pyplot as plt\n",
    "from matplotlib.patches import Patch\n",
    "\n",
    "from matplotlib.collections import PatchCollection\n",
    "from sklearn.preprocessing import StandardScaler\n",
    "from sklearn.decomposition import PCA\n",
    "\n",
    "import pandas as pd\n",
    "import seaborn as sns\n",
    "import json\n",
    "from natsort import natsorted"
   ]
  },
  {
   "cell_type": "code",
   "execution_count": null,
   "id": "97ab2526-4090-4a8a-bf70-fe66ab3970d6",
   "metadata": {},
   "outputs": [],
   "source": [
    "if not os.path.exists(os.path.join(\"Adelaide\", \"subsystems\", \"level2_norm_ss.tsv.gz\")):\n",
    "    print(f\"We are not in the right path. Trying to change!\")\n",
    "    os.chdir(\"/home/edwa0468/GitHubs/CF_Data_Analysis/WorldWideDataAnalysis\")\n",
    "\n",
    "adl = pd.read_csv(\"Adelaide/subsystems/level2_norm_ss.tsv.gz\", compression='gzip', delimiter=\"\\t\")\n",
    "adl = adl.set_index(\"Unnamed: 0\")\n",
    "adl = adl.reindex(natsorted(adl.columns), axis=1)\n",
    "adl = adl.T\n",
    "adl['geo_loc_name_country_calc'] = \"Adelaide\"\n",
    "adl.head(3)"
   ]
  },
  {
   "cell_type": "markdown",
   "id": "b70bb7ae-f549-4555-99f0-1859b7577471",
   "metadata": {},
   "source": [
    "# Read the pairwise MinHash Distances for all the samples\n",
    "\n",
    "In these samples, we have pre-filtered some of the SRA runs to remove any additional runs that are mostly 16S sequences."
   ]
  },
  {
   "cell_type": "code",
   "execution_count": 2,
   "id": "b0ed4b00-7202-4242-aa8a-870b06f5bdaf",
   "metadata": {},
   "outputs": [],
   "source": [
    "msh = pd.read_csv(\"OtherSequences/pairwise_mash_distances.no16s.tsv.gz\", compression='gzip', delimiter=\"\\t\")\n",
    "msh"
   ]
  },
  {
   "cell_type": "code",
   "execution_count": null,
   "id": "8285ea29-34ec-4542-b1df-fc484680cae7",
   "metadata": {},
   "outputs": [],
   "source": []
  },
  {
   "cell_type": "code",
   "execution_count": null,
   "id": "7baeaef4-727a-469a-ad1e-f3b964254542",
   "metadata": {},
   "outputs": [],
   "source": []
  }
 ],
 "metadata": {
  "kernelspec": {
   "display_name": "BioinfieConda",
   "language": "python",
   "name": "bioinfieconda"
  },
  "language_info": {
   "codemirror_mode": {
    "name": "ipython",
    "version": 3
   },
   "file_extension": ".py",
   "mimetype": "text/x-python",
   "name": "python",
   "nbconvert_exporter": "python",
   "pygments_lexer": "ipython3",
   "version": "3.9.19"
  }
 },
 "nbformat": 4,
 "nbformat_minor": 5
}
